{
 "cells": [
  {
   "cell_type": "code",
   "execution_count": 1,
   "metadata": {},
   "outputs": [],
   "source": [
    "# Importação de bibliotecas\n",
    "\n",
    "import pandas as pd"
   ]
  },
  {
   "cell_type": "code",
   "execution_count": 4,
   "metadata": {},
   "outputs": [
    {
     "data": {
      "text/html": [
       "<div>\n",
       "<style scoped>\n",
       "    .dataframe tbody tr th:only-of-type {\n",
       "        vertical-align: middle;\n",
       "    }\n",
       "\n",
       "    .dataframe tbody tr th {\n",
       "        vertical-align: top;\n",
       "    }\n",
       "\n",
       "    .dataframe thead th {\n",
       "        text-align: right;\n",
       "    }\n",
       "</style>\n",
       "<table border=\"1\" class=\"dataframe\">\n",
       "  <thead>\n",
       "    <tr style=\"text-align: right;\">\n",
       "      <th></th>\n",
       "      <th>Unnamed: 0</th>\n",
       "      <th>posicao</th>\n",
       "      <th>nome</th>\n",
       "      <th>cargo</th>\n",
       "      <th>partido</th>\n",
       "      <th>pontuacao</th>\n",
       "      <th>estado</th>\n",
       "      <th>presidente</th>\n",
       "    </tr>\n",
       "  </thead>\n",
       "  <tbody>\n",
       "    <tr>\n",
       "      <th>0</th>\n",
       "      <td>0</td>\n",
       "      <td>0</td>\n",
       "      <td>Eduardo Girão</td>\n",
       "      <td>Senador</td>\n",
       "      <td>PODEMOS</td>\n",
       "      <td>8.34</td>\n",
       "      <td>CE</td>\n",
       "      <td>False</td>\n",
       "    </tr>\n",
       "    <tr>\n",
       "      <th>1</th>\n",
       "      <td>1</td>\n",
       "      <td>1</td>\n",
       "      <td>Alex Manente</td>\n",
       "      <td>Deputado Federal</td>\n",
       "      <td>CIDADANIA</td>\n",
       "      <td>8.28</td>\n",
       "      <td>SP</td>\n",
       "      <td>False</td>\n",
       "    </tr>\n",
       "    <tr>\n",
       "      <th>2</th>\n",
       "      <td>2</td>\n",
       "      <td>2</td>\n",
       "      <td>Adriana Ventura</td>\n",
       "      <td>Deputado Federal</td>\n",
       "      <td>NOVO</td>\n",
       "      <td>8.10</td>\n",
       "      <td>SP</td>\n",
       "      <td>False</td>\n",
       "    </tr>\n",
       "    <tr>\n",
       "      <th>3</th>\n",
       "      <td>3</td>\n",
       "      <td>3</td>\n",
       "      <td>Lucas Redecker</td>\n",
       "      <td>Deputado Federal</td>\n",
       "      <td>PSDB</td>\n",
       "      <td>8.08</td>\n",
       "      <td>RS</td>\n",
       "      <td>False</td>\n",
       "    </tr>\n",
       "    <tr>\n",
       "      <th>4</th>\n",
       "      <td>4</td>\n",
       "      <td>4</td>\n",
       "      <td>Carlos Portinho</td>\n",
       "      <td>Senador</td>\n",
       "      <td>PL</td>\n",
       "      <td>8.05</td>\n",
       "      <td>RJ</td>\n",
       "      <td>False</td>\n",
       "    </tr>\n",
       "  </tbody>\n",
       "</table>\n",
       "</div>"
      ],
      "text/plain": [
       "   Unnamed: 0  posicao              nome             cargo    partido  \\\n",
       "0           0        0     Eduardo Girão           Senador    PODEMOS   \n",
       "1           1        1     Alex Manente   Deputado Federal  CIDADANIA   \n",
       "2           2        2  Adriana Ventura   Deputado Federal       NOVO   \n",
       "3           3        3   Lucas Redecker   Deputado Federal       PSDB   \n",
       "4           4        4   Carlos Portinho           Senador         PL   \n",
       "\n",
       "   pontuacao estado  presidente  \n",
       "0       8.34     CE       False  \n",
       "1       8.28     SP       False  \n",
       "2       8.10     SP       False  \n",
       "3       8.08     RS       False  \n",
       "4       8.05     RJ       False  "
      ]
     },
     "execution_count": 4,
     "metadata": {},
     "output_type": "execute_result"
    }
   ],
   "source": [
    "df = pd.read_csv('dados/dados_ranking_politicos_2022.csv', sep='\\t', encoding='utf-8')\n",
    "df.head()"
   ]
  },
  {
   "cell_type": "code",
   "execution_count": 14,
   "metadata": {},
   "outputs": [
    {
     "data": {
      "text/plain": [
       "partido\n",
       "NOVO             7.810000\n",
       "CIDADANIA        7.320000\n",
       "PODEMOS          7.015000\n",
       "PL               6.782118\n",
       "PTB              6.770000\n",
       "PSDB             6.732759\n",
       "PATRIOTA         6.628000\n",
       "S.PART.          6.570000\n",
       "PSC              6.569000\n",
       "PP               6.520159\n",
       "UNIÃO            6.466897\n",
       "REPUBLICANOS     6.312045\n",
       "PSD              6.311034\n",
       "PROS             6.291667\n",
       "MDB              6.207917\n",
       "AVANTE           5.943333\n",
       "SOLIDARIEDADE    5.423750\n",
       "PV               4.145000\n",
       "PDT              4.055909\n",
       "PSB              4.028333\n",
       "REDE             3.990000\n",
       "PSOL             2.926250\n",
       "PT               2.890000\n",
       "PCdoB            2.515000\n",
       "Name: pontuacao, dtype: float64"
      ]
     },
     "execution_count": 14,
     "metadata": {},
     "output_type": "execute_result"
    }
   ],
   "source": [
    "df.groupby('partido')['pontuacao'].mean().sort_values(ascending=False)"
   ]
  },
  {
   "cell_type": "code",
   "execution_count": 15,
   "metadata": {},
   "outputs": [
    {
     "data": {
      "text/plain": [
       "estado\n",
       "SC    6.901053\n",
       "MT    6.290000\n",
       "AM    6.288182\n",
       "ES    6.217692\n",
       "PR    6.215758\n",
       "GO    6.200000\n",
       "RR    6.063636\n",
       "DF    6.056364\n",
       "RJ    6.045714\n",
       "SP    6.025068\n",
       "MS    5.993636\n",
       "RO    5.870000\n",
       "RS    5.857353\n",
       "AL    5.824167\n",
       "PI    5.812308\n",
       "MG    5.760182\n",
       "TO    5.745455\n",
       "AC    5.621818\n",
       "PA    5.560500\n",
       "AP    5.541818\n",
       "PB    5.537333\n",
       "MA    5.506667\n",
       "RN    5.468000\n",
       "CE    5.232500\n",
       "PE    5.229630\n",
       "BA    5.101905\n",
       "SE    4.990000\n",
       "Name: pontuacao, dtype: float64"
      ]
     },
     "execution_count": 15,
     "metadata": {},
     "output_type": "execute_result"
    }
   ],
   "source": [
    "df.groupby('estado')['pontuacao'].mean().sort_values(ascending=False)"
   ]
  }
 ],
 "metadata": {
  "kernelspec": {
   "display_name": "Python 3",
   "language": "python",
   "name": "python3"
  },
  "language_info": {
   "codemirror_mode": {
    "name": "ipython",
    "version": 3
   },
   "file_extension": ".py",
   "mimetype": "text/x-python",
   "name": "python",
   "nbconvert_exporter": "python",
   "pygments_lexer": "ipython3",
   "version": "3.10.6"
  },
  "orig_nbformat": 4,
  "vscode": {
   "interpreter": {
    "hash": "97e36f5209a1df387d826c92df8cc24211845ce8fc4007fb43096f7189f8cb73"
   }
  }
 },
 "nbformat": 4,
 "nbformat_minor": 2
}
